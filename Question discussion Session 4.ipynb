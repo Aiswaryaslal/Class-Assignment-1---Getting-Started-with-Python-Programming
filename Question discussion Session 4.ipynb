{
  "nbformat": 4,
  "nbformat_minor": 0,
  "metadata": {
    "colab": {
      "name": "Untitled7.ipynb",
      "provenance": [],
      "authorship_tag": "ABX9TyO2zvD6MPm8sXyYOCf8mK3Z",
      "include_colab_link": true
    },
    "kernelspec": {
      "display_name": "Python 3",
      "name": "python3"
    }
  },
  "cells": [
    {
      "cell_type": "markdown",
      "metadata": {
        "id": "view-in-github",
        "colab_type": "text"
      },
      "source": [
        "<a href=\"https://colab.research.google.com/github/Aiswaryaslal/Class-Assignment-1---Getting-Started-with-Python-Programming/blob/master/Question%20discussion%20Session%204.ipynb\" target=\"_parent\"><img src=\"https://colab.research.google.com/assets/colab-badge.svg\" alt=\"Open In Colab\"/></a>"
      ]
    },
    {
      "cell_type": "code",
      "metadata": {
        "colab": {
          "background_save": true
        },
        "id": "_JtkcR7LbbAJ",
        "outputId": "a27d96c7-9d02-49c9-9979-dbd7bb7b9a20"
      },
      "source": [
        "#1. Write a Python class named Circle constructed by a radius and two methods which will compute the area and the perimeter of a given circle.\n",
        "\n",
        "from math import pi\n",
        "class Circle:\n",
        "    def __init__(self,radius):\n",
        "        self.radius=radius\n",
        "\n",
        "    def area(self):\n",
        "        area=pi * (self.radius**2)\n",
        "        print(\"The area of the circle is : %0.2f \" %area)\n",
        "\n",
        "    def perimeter(self):\n",
        "        peri=2*pi*self.radius\n",
        "        print(\"The perimeter of the circle is : %0.2f \" %peri)\n",
        "\n",
        "\n",
        "ob=Circle(3)\n",
        "ob.area()\n",
        "ob.perimeter()"
      ],
      "execution_count": null,
      "outputs": [
        {
          "output_type": "stream",
          "text": [
            "The area of the circle is : 28.27 \n",
            "The perimeter of the circle is : 18.85 \n"
          ],
          "name": "stdout"
        }
      ]
    },
    {
      "cell_type": "code",
      "metadata": {
        "colab": {
          "base_uri": "https://localhost:8080/"
        },
        "id": "yXWuAFyP6ZDP",
        "outputId": "3c11960b-2912-4031-e536-10626b355c64"
      },
      "source": [
        "#2. Write a Python class RECTANGLE with parameters height, width, corner_x, and corner_y and member functions to find center, area, and perimeter of an instance.\n",
        "\n",
        "class Rectangle:\n",
        "    def __init__(self,height,width,corner_x,corner_y):\n",
        "        self.height = height\n",
        "        self.width = width\n",
        "        self.corner_x = corner_x\n",
        "        self.corner_y = corner_y\n",
        "\n",
        "    def center(self):\n",
        "        x=(self.height/2)+self.corner_x\n",
        "        y=(self.width/2)+self.corner_y\n",
        "        center=[x,y]\n",
        "        print(\"The co-ordinates of the center of the rectangle is : \",center)\n",
        "\n",
        "\n",
        "    def area(self):\n",
        "        area=self.height*self.width\n",
        "        print(\"The area of the rectangle is : %0.2f \" % area)\n",
        "\n",
        "    def perimeter(self):\n",
        "        peri=2*(self.height+self.width)\n",
        "        print(\"The perimeter of the square is : %0.2f \" % peri)\n",
        "\n",
        "\n",
        "ob = Rectangle(4,6,6,3)\n",
        "ob.center()\n",
        "ob.area()\n",
        "ob.perimeter()\n"
      ],
      "execution_count": 5,
      "outputs": [
        {
          "output_type": "stream",
          "text": [
            "The co-ordinates of the center of the rectangle is :  [8.0, 6.0]\n",
            "The area of the rectangle is : 24.00 \n",
            "The perimeter of the square is : 20.00 \n"
          ],
          "name": "stdout"
        }
      ]
    }
  ]
}