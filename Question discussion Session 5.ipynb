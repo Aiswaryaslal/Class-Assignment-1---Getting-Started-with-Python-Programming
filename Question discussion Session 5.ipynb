{
  "nbformat": 4,
  "nbformat_minor": 0,
  "metadata": {
    "colab": {
      "name": "Untitled9.ipynb",
      "provenance": [],
      "authorship_tag": "ABX9TyP5q5FOknBGc7e8/HDCnlsr",
      "include_colab_link": true
    },
    "kernelspec": {
      "name": "python3",
      "display_name": "Python 3"
    }
  },
  "cells": [
    {
      "cell_type": "markdown",
      "metadata": {
        "id": "view-in-github",
        "colab_type": "text"
      },
      "source": [
        "<a href=\"https://colab.research.google.com/github/Aiswaryaslal/Class-Assignment-1---Getting-Started-with-Python-Programming/blob/master/Question%20discussion%20Session%205.ipynb\" target=\"_parent\"><img src=\"https://colab.research.google.com/assets/colab-badge.svg\" alt=\"Open In Colab\"/></a>"
      ]
    },
    {
      "cell_type": "code",
      "metadata": {
        "colab": {
          "base_uri": "https://localhost:8080/"
        },
        "id": "RqNCnn0bK3Ny",
        "outputId": "341cc6d7-dbe8-4832-9da3-c1d93ff3c0c4"
      },
      "source": [
        "#1. Create two class Cat and Dog with member functions info and make_sound. Create objects of these classes with name and age as arguments for the constructor. Call the member functions and print the details.\n",
        "class Cat:\n",
        "    def __init__(self,name,age):\n",
        "        self.name=name\n",
        "        self.age=age\n",
        "    def info(self):\n",
        "        print(\"Name :\",self.name)\n",
        "        print(\"Age :\",self.age)\n",
        "    def make_sound(self):\n",
        "        print(\"Sound : Meow \")\n",
        "\n",
        "\n",
        "class Dog:\n",
        "    def __init__(self,name,age):\n",
        "        self.name = name\n",
        "        self.age = age\n",
        "\n",
        "    def info(self):\n",
        "        print(\"Name :\", self.name)\n",
        "        print(\"Age :\", self.age)\n",
        "\n",
        "    def make_sound(self):\n",
        "        print(\"Sound : Bow \")\n",
        "\n",
        "\n",
        "ob = Cat(\"Leo\", 3)\n",
        "ob1 = Dog(\"Max\", 2)\n",
        "\n",
        "for infos in (ob, ob1):\n",
        "    infos.info()\n",
        "    infos.make_sound()\n"
      ],
      "execution_count": 1,
      "outputs": [
        {
          "output_type": "stream",
          "text": [
            "Name : Leo\n",
            "Age : 3\n",
            "Sound : Meow \n",
            "Name : Max\n",
            "Age : 2\n",
            "Sound : Bow \n"
          ],
          "name": "stdout"
        }
      ]
    },
    {
      "cell_type": "code",
      "metadata": {
        "colab": {
          "base_uri": "https://localhost:8080/"
        },
        "id": "_nB8ZT2JLDAL",
        "outputId": "69df95c5-6b01-453a-cc90-b7e5f5835eca"
      },
      "source": [
        "#2. Create a class Shape with attribute name and member functions area and fact. Two classes Square and Circle inherit Shape. Square class have member function area and fact. \n",
        "#   Circle have only one member function, area. Create object of both derived classes and print fact and area details.\n",
        "from math import pi\n",
        "\n",
        "\n",
        "class Shape:\n",
        "    def __init__(self, name):\n",
        "        self.name = name\n",
        "\n",
        "    def area(self):\n",
        "        pass\n",
        "\n",
        "    def fact(self):\n",
        "        pass\n",
        "\n",
        "    def __str__(self):\n",
        "        return self.name\n",
        "\n",
        "\n",
        "class Square(Shape):\n",
        "    def __init__(self, length):\n",
        "        super().__init__(\"Square\")\n",
        "        self.length = length\n",
        "\n",
        "    def area(self):\n",
        "        print(\"Area : \",self.length**2)\n",
        "\n",
        "    def fact(self):\n",
        "        print(\"Square have four equal sides and four equal angles.\")\n",
        "\n",
        "\n",
        "class Circle(Shape):\n",
        "    def __init__(self, radius):\n",
        "        super().__init__(\"Circle\")\n",
        "        self.radius = radius\n",
        "\n",
        "    def area(self):\n",
        "        print(\"Area : %0.2f \"%(pi*self.radius**2))\n",
        "\n",
        "\n",
        "a = Square(2)\n",
        "b = Circle(3)\n",
        "print(a)\n",
        "a.area()\n",
        "a.fact()\n",
        "print(b)\n",
        "b.area()\n",
        "\n",
        "\n"
      ],
      "execution_count": 2,
      "outputs": [
        {
          "output_type": "stream",
          "text": [
            "Square\n",
            "Area :  4\n",
            "Square have four equal sides and four equal angles.\n",
            "Circle\n",
            "Area : 28.27 \n"
          ],
          "name": "stdout"
        }
      ]
    }
  ]
}