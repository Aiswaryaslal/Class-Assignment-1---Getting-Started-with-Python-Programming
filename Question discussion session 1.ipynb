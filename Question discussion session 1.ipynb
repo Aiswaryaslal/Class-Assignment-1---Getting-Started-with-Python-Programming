{
  "nbformat": 4,
  "nbformat_minor": 0,
  "metadata": {
    "colab": {
      "name": "Untitled4.ipynb",
      "provenance": [],
      "authorship_tag": "ABX9TyPsDWvAqEiZGOjYGm43P0mF",
      "include_colab_link": true
    },
    "kernelspec": {
      "name": "python3",
      "display_name": "Python 3"
    }
  },
  "cells": [
    {
      "cell_type": "markdown",
      "metadata": {
        "id": "view-in-github",
        "colab_type": "text"
      },
      "source": [
        "<a href=\"https://colab.research.google.com/github/Aiswaryaslal/Class-Assignment-1---Getting-Started-with-Python-Programming/blob/master/Question%20discussion%20session%201.ipynb\" target=\"_parent\"><img src=\"https://colab.research.google.com/assets/colab-badge.svg\" alt=\"Open In Colab\"/></a>"
      ]
    },
    {
      "cell_type": "code",
      "metadata": {
        "colab": {
          "base_uri": "https://localhost:8080/"
        },
        "id": "JvExm_MMMEnI",
        "outputId": "6be91a88-968c-4628-df93-d359322496d7"
      },
      "source": [
        "\n",
        "class Member:\n",
        "    def __init__(self, name, age, phonenumber, address, salary):\n",
        "        self.name = name\n",
        "        self.age = age\n",
        "        self.phonenumber=phonenumber\n",
        "        self.address=address\n",
        "        self.salary=salary\n",
        "    \n",
        "    def printSalary(self):\n",
        "        print(\"Salary : \",self.salary)\n",
        "\n",
        "\n",
        "\n",
        "class Employee(Member):  # Inheritance\n",
        "    def __init__(self, specialization):\n",
        "        super().__init__(\"Anand\", 30, 9253748274,\"XYZ\",33000)\n",
        "        self.specialization = specialization\n",
        "\n",
        "    def report(self):\n",
        "        print(\"Spetialization : \",self.specialization)\n",
        "        print(\"Name:\", self.name)\n",
        "        print(\"age:\", self.age)\n",
        "        print(\"phone number:\", self.phonenumber)\n",
        "        print(\"Address:\", self.address)\n",
        "        print(\"Salary:\", self.salary)\n",
        "\n",
        "\n",
        "class Manager(Member):  # Inheritance\n",
        "    def __init__(self, department):\n",
        "        super().__init__(\"Anand\", 40,9253748274,\"WTH\",46000)\n",
        "        self.department = department\n",
        "\n",
        "    def report(self):\n",
        "        print(\"Department : \", self.department)\n",
        "        print(\"Name:\", self.name)\n",
        "        print(\"age:\", self.age)\n",
        "        print(\"phone number:\", self.phonenumber)\n",
        "        print(\"Address:\", self.address)\n",
        "        print(\"Salary : \",self.salary)\n",
        "\n",
        "\n",
        "a = Employee(\"Programmer\")\n",
        "print(a.report())\n",
        "b = Manager(\"Human Resources\")\n",
        "print(b.report())\n",
        "\n"
      ],
      "execution_count": 1,
      "outputs": [
        {
          "output_type": "stream",
          "text": [
            "Spetialization :  Programmer\n",
            "Name: Anand\n",
            "age: 30\n",
            "phone number: 9253748274\n",
            "Address: XYZ\n",
            "Salary: 33000\n",
            "None\n",
            "Department :  Human Resources\n",
            "Name: Anand\n",
            "age: 40\n",
            "phone number: 9253748274\n",
            "Address: WTH\n",
            "Salary :  46000\n",
            "None\n"
          ],
          "name": "stdout"
        }
      ]
    }
  ]
}