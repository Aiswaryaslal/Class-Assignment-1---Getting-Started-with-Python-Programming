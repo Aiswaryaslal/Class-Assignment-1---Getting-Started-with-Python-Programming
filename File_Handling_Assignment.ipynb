{
  "nbformat": 4,
  "nbformat_minor": 0,
  "metadata": {
    "colab": {
      "name": "File Handling Assignment.ipynb",
      "provenance": [],
      "authorship_tag": "ABX9TyPlzNZL8/+Q/VC2wv341uxR",
      "include_colab_link": true
    },
    "kernelspec": {
      "name": "python3",
      "display_name": "Python 3"
    }
  },
  "cells": [
    {
      "cell_type": "markdown",
      "metadata": {
        "id": "view-in-github",
        "colab_type": "text"
      },
      "source": [
        "<a href=\"https://colab.research.google.com/github/Aiswaryaslal/Class-Assignment-1---Getting-Started-with-Python-Programming/blob/master/File_Handling_Assignment.ipynb\" target=\"_parent\"><img src=\"https://colab.research.google.com/assets/colab-badge.svg\" alt=\"Open In Colab\"/></a>"
      ]
    },
    {
      "cell_type": "code",
      "metadata": {
        "id": "3ObHJtH8wPEw"
      },
      "source": [
        "#1. Write a program to read numbers sorted in one file and store the sorted numbers in another file after deleting duplicates."
      ],
      "execution_count": null,
      "outputs": []
    },
    {
      "cell_type": "code",
      "metadata": {
        "id": "aqEVDLOosYmv",
        "outputId": "ce7076f1-9801-4437-b206-550f19f1d433",
        "colab": {
          "base_uri": "https://localhost:8080/"
        }
      },
      "source": [
        "import pickle\n",
        "f=open(\"test.dat\",\"ab\")\n",
        "List=[1,2,2,3,3,4,5,5]\n",
        "pickle.dump(List,f)\n",
        "f.close()\n",
        "f1 = open(\"test.dat\", \"rb\")\n",
        "list1 = pickle.load(f1)\n",
        "print(list1)\n",
        "list2 = []\n",
        "for i in list1:\n",
        "    if i not in list2:\n",
        "        list2.append(i)\n",
        "f2=open(\"new.dat\",\"ab\")\n",
        "pickle.dump(list2,f2)\n",
        "f2.close()\n",
        "f2 = open(\"new.dat\", \"rb\")\n",
        "list3=pickle.load(f2)\n",
        "print(list3)\n"
      ],
      "execution_count": 1,
      "outputs": [
        {
          "output_type": "stream",
          "text": [
            "[1, 2, 2, 3, 3, 4, 5, 5]\n",
            "[1, 2, 3, 4, 5]\n"
          ],
          "name": "stdout"
        }
      ]
    },
    {
      "cell_type": "code",
      "metadata": {
        "id": "e8A4Ekezsbn5"
      },
      "source": [
        "#2. Write a Python code to read a text file, copy the contents to another file after removing the blank lines."
      ],
      "execution_count": null,
      "outputs": []
    },
    {
      "cell_type": "code",
      "metadata": {
        "id": "uXh6H0fHwlaG"
      },
      "source": [
        "f= open(\"file.txt\",\"w\")\n",
        "f.write(\"First Line\")\n",
        "f.write(\"\\r\\n\")\n",
        "f.write(\"Second Line\")\n",
        "f.close()\n",
        "f = open(\"file.txt\",\"r\")\n",
        "f2=open(\"new.txt\",\"w\")\n",
        "text=f.read()\n",
        "text=text.replace(\"\\n\",\" \")\n",
        "f2.write(text)\n",
        "f.close()\n",
        "f2.close()\n",
        "f2= open(\"new.txt\",\"r\")\n",
        "text1=f2.read()\n",
        "print(text1)\n",
        "\n"
      ],
      "execution_count": null,
      "outputs": []
    }
  ]
}